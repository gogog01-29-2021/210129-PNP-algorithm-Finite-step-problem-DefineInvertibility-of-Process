{
  "nbformat": 4,
  "nbformat_minor": 0,
  "metadata": {
    "colab": {
      "provenance": [],
      "collapsed_sections": []
    },
    "kernelspec": {
      "name": "python3",
      "display_name": "Python 3"
    },
    "language_info": {
      "name": "python"
    },
    "accelerator": "GPU",
    "gpuClass": "standard"
  },
  "cells": [
    {
      "cell_type": "markdown",
      "source": [
        "## Credit Card Fraud Detection\n",
        "\n",
        "약 28만건의 신용카드 거래 데이터 중에서 이상거래(Fraud)를 감지해내는 프로그램\n"
      ],
      "metadata": {
        "id": "xTMZ0sI-dcQA"
      }
    },
    {
      "cell_type": "markdown",
      "source": [
        "# Module Import"
      ],
      "metadata": {
        "id": "mowP6MWjm1BP"
      }
    },
    {
      "cell_type": "code",
      "source": [
        "import tensorflow as tf\n",
        "import numpy as np\n",
        "import pandas as pd\n",
        "import matplotlib.pyplot as plt\n",
        "\n",
        "from sklearn.preprocessing import StandardScaler, MinMaxScaler"
      ],
      "metadata": {
        "id": "KJ49-jP9dfY6"
      },
      "execution_count": null,
      "outputs": []
    },
    {
      "cell_type": "markdown",
      "source": [
        "필요한 라이브러리들을 불러옵니다.\n"
      ],
      "metadata": {
        "id": "Owa3ZCJskxcn"
      }
    },
    {
      "cell_type": "code",
      "source": [
        "from google.colab import drive\n",
        "drive.mount('/content/drive')"
      ],
      "metadata": {
        "colab": {
          "base_uri": "https://localhost:8080/"
        },
        "id": "GK5tAX8LdsSl",
        "outputId": "edf4ba12-05c6-459c-a4fa-33a64f8886aa"
      },
      "execution_count": null,
      "outputs": [
        {
          "output_type": "stream",
          "name": "stdout",
          "text": [
            "Mounted at /content/drive\n"
          ]
        }
      ]
    },
    {
      "cell_type": "markdown",
      "source": [
        "구글 Colab을 사용할 경우, 적절한 작업경로를 지정해줍니다."
      ],
      "metadata": {
        "id": "ab9wH0E2lITi"
      }
    },
    {
      "cell_type": "markdown",
      "source": [
        "# Data Load"
      ],
      "metadata": {
        "id": "xUHKiV_Am8Ff"
      }
    },
    {
      "cell_type": "code",
      "source": [
        "df = pd.read_csv(\"/content/drive/My Drive/FD/creditcard.csv\", delimiter=',', dtype=np.float32)\n",
        "print(df.shape)\n",
        "df.head()"
      ],
      "metadata": {
        "colab": {
          "base_uri": "https://localhost:8080/",
          "height": 298
        },
        "id": "V6a1F8tPd6Fo",
        "outputId": "b8dbb2d4-2228-433f-a04f-c2703d8ef6a3"
      },
      "execution_count": null,
      "outputs": [
        {
          "output_type": "stream",
          "name": "stdout",
          "text": [
            "(284807, 31)\n"
          ]
        },
        {
          "output_type": "execute_result",
          "data": {
            "text/plain": [
              "   Time        V1        V2        V3        V4        V5        V6        V7  \\\n",
              "0   0.0 -1.359807 -0.072781  2.536347  1.378155 -0.338321  0.462388  0.239599   \n",
              "1   0.0  1.191857  0.266151  0.166480  0.448154  0.060018 -0.082361 -0.078803   \n",
              "2   1.0 -1.358354 -1.340163  1.773209  0.379780 -0.503198  1.800499  0.791461   \n",
              "3   1.0 -0.966272 -0.185226  1.792993 -0.863291 -0.010309  1.247203  0.237609   \n",
              "4   2.0 -1.158233  0.877737  1.548718  0.403034 -0.407193  0.095921  0.592941   \n",
              "\n",
              "         V8        V9  ...       V21       V22       V23       V24       V25  \\\n",
              "0  0.098698  0.363787  ... -0.018307  0.277838 -0.110474  0.066928  0.128539   \n",
              "1  0.085102 -0.255425  ... -0.225775 -0.638672  0.101288 -0.339846  0.167170   \n",
              "2  0.247676 -1.514654  ...  0.247998  0.771679  0.909412 -0.689281 -0.327642   \n",
              "3  0.377436 -1.387024  ... -0.108300  0.005274 -0.190321 -1.175575  0.647376   \n",
              "4 -0.270533  0.817739  ... -0.009431  0.798279 -0.137458  0.141267 -0.206010   \n",
              "\n",
              "        V26       V27       V28      Amount  Class  \n",
              "0 -0.189115  0.133558 -0.021053  149.619995    0.0  \n",
              "1  0.125895 -0.008983  0.014724    2.690000    0.0  \n",
              "2 -0.139097 -0.055353 -0.059752  378.660004    0.0  \n",
              "3 -0.221929  0.062723  0.061458  123.500000    0.0  \n",
              "4  0.502292  0.219422  0.215153   69.989998    0.0  \n",
              "\n",
              "[5 rows x 31 columns]"
            ],
            "text/html": [
              "\n",
              "  <div id=\"df-ac8c4ffb-b691-4c16-b93f-003d8d9a8d34\">\n",
              "    <div class=\"colab-df-container\">\n",
              "      <div>\n",
              "<style scoped>\n",
              "    .dataframe tbody tr th:only-of-type {\n",
              "        vertical-align: middle;\n",
              "    }\n",
              "\n",
              "    .dataframe tbody tr th {\n",
              "        vertical-align: top;\n",
              "    }\n",
              "\n",
              "    .dataframe thead th {\n",
              "        text-align: right;\n",
              "    }\n",
              "</style>\n",
              "<table border=\"1\" class=\"dataframe\">\n",
              "  <thead>\n",
              "    <tr style=\"text-align: right;\">\n",
              "      <th></th>\n",
              "      <th>Time</th>\n",
              "      <th>V1</th>\n",
              "      <th>V2</th>\n",
              "      <th>V3</th>\n",
              "      <th>V4</th>\n",
              "      <th>V5</th>\n",
              "      <th>V6</th>\n",
              "      <th>V7</th>\n",
              "      <th>V8</th>\n",
              "      <th>V9</th>\n",
              "      <th>...</th>\n",
              "      <th>V21</th>\n",
              "      <th>V22</th>\n",
              "      <th>V23</th>\n",
              "      <th>V24</th>\n",
              "      <th>V25</th>\n",
              "      <th>V26</th>\n",
              "      <th>V27</th>\n",
              "      <th>V28</th>\n",
              "      <th>Amount</th>\n",
              "      <th>Class</th>\n",
              "    </tr>\n",
              "  </thead>\n",
              "  <tbody>\n",
              "    <tr>\n",
              "      <th>0</th>\n",
              "      <td>0.0</td>\n",
              "      <td>-1.359807</td>\n",
              "      <td>-0.072781</td>\n",
              "      <td>2.536347</td>\n",
              "      <td>1.378155</td>\n",
              "      <td>-0.338321</td>\n",
              "      <td>0.462388</td>\n",
              "      <td>0.239599</td>\n",
              "      <td>0.098698</td>\n",
              "      <td>0.363787</td>\n",
              "      <td>...</td>\n",
              "      <td>-0.018307</td>\n",
              "      <td>0.277838</td>\n",
              "      <td>-0.110474</td>\n",
              "      <td>0.066928</td>\n",
              "      <td>0.128539</td>\n",
              "      <td>-0.189115</td>\n",
              "      <td>0.133558</td>\n",
              "      <td>-0.021053</td>\n",
              "      <td>149.619995</td>\n",
              "      <td>0.0</td>\n",
              "    </tr>\n",
              "    <tr>\n",
              "      <th>1</th>\n",
              "      <td>0.0</td>\n",
              "      <td>1.191857</td>\n",
              "      <td>0.266151</td>\n",
              "      <td>0.166480</td>\n",
              "      <td>0.448154</td>\n",
              "      <td>0.060018</td>\n",
              "      <td>-0.082361</td>\n",
              "      <td>-0.078803</td>\n",
              "      <td>0.085102</td>\n",
              "      <td>-0.255425</td>\n",
              "      <td>...</td>\n",
              "      <td>-0.225775</td>\n",
              "      <td>-0.638672</td>\n",
              "      <td>0.101288</td>\n",
              "      <td>-0.339846</td>\n",
              "      <td>0.167170</td>\n",
              "      <td>0.125895</td>\n",
              "      <td>-0.008983</td>\n",
              "      <td>0.014724</td>\n",
              "      <td>2.690000</td>\n",
              "      <td>0.0</td>\n",
              "    </tr>\n",
              "    <tr>\n",
              "      <th>2</th>\n",
              "      <td>1.0</td>\n",
              "      <td>-1.358354</td>\n",
              "      <td>-1.340163</td>\n",
              "      <td>1.773209</td>\n",
              "      <td>0.379780</td>\n",
              "      <td>-0.503198</td>\n",
              "      <td>1.800499</td>\n",
              "      <td>0.791461</td>\n",
              "      <td>0.247676</td>\n",
              "      <td>-1.514654</td>\n",
              "      <td>...</td>\n",
              "      <td>0.247998</td>\n",
              "      <td>0.771679</td>\n",
              "      <td>0.909412</td>\n",
              "      <td>-0.689281</td>\n",
              "      <td>-0.327642</td>\n",
              "      <td>-0.139097</td>\n",
              "      <td>-0.055353</td>\n",
              "      <td>-0.059752</td>\n",
              "      <td>378.660004</td>\n",
              "      <td>0.0</td>\n",
              "    </tr>\n",
              "    <tr>\n",
              "      <th>3</th>\n",
              "      <td>1.0</td>\n",
              "      <td>-0.966272</td>\n",
              "      <td>-0.185226</td>\n",
              "      <td>1.792993</td>\n",
              "      <td>-0.863291</td>\n",
              "      <td>-0.010309</td>\n",
              "      <td>1.247203</td>\n",
              "      <td>0.237609</td>\n",
              "      <td>0.377436</td>\n",
              "      <td>-1.387024</td>\n",
              "      <td>...</td>\n",
              "      <td>-0.108300</td>\n",
              "      <td>0.005274</td>\n",
              "      <td>-0.190321</td>\n",
              "      <td>-1.175575</td>\n",
              "      <td>0.647376</td>\n",
              "      <td>-0.221929</td>\n",
              "      <td>0.062723</td>\n",
              "      <td>0.061458</td>\n",
              "      <td>123.500000</td>\n",
              "      <td>0.0</td>\n",
              "    </tr>\n",
              "    <tr>\n",
              "      <th>4</th>\n",
              "      <td>2.0</td>\n",
              "      <td>-1.158233</td>\n",
              "      <td>0.877737</td>\n",
              "      <td>1.548718</td>\n",
              "      <td>0.403034</td>\n",
              "      <td>-0.407193</td>\n",
              "      <td>0.095921</td>\n",
              "      <td>0.592941</td>\n",
              "      <td>-0.270533</td>\n",
              "      <td>0.817739</td>\n",
              "      <td>...</td>\n",
              "      <td>-0.009431</td>\n",
              "      <td>0.798279</td>\n",
              "      <td>-0.137458</td>\n",
              "      <td>0.141267</td>\n",
              "      <td>-0.206010</td>\n",
              "      <td>0.502292</td>\n",
              "      <td>0.219422</td>\n",
              "      <td>0.215153</td>\n",
              "      <td>69.989998</td>\n",
              "      <td>0.0</td>\n",
              "    </tr>\n",
              "  </tbody>\n",
              "</table>\n",
              "<p>5 rows × 31 columns</p>\n",
              "</div>\n",
              "      <button class=\"colab-df-convert\" onclick=\"convertToInteractive('df-ac8c4ffb-b691-4c16-b93f-003d8d9a8d34')\"\n",
              "              title=\"Convert this dataframe to an interactive table.\"\n",
              "              style=\"display:none;\">\n",
              "        \n",
              "  <svg xmlns=\"http://www.w3.org/2000/svg\" height=\"24px\"viewBox=\"0 0 24 24\"\n",
              "       width=\"24px\">\n",
              "    <path d=\"M0 0h24v24H0V0z\" fill=\"none\"/>\n",
              "    <path d=\"M18.56 5.44l.94 2.06.94-2.06 2.06-.94-2.06-.94-.94-2.06-.94 2.06-2.06.94zm-11 1L8.5 8.5l.94-2.06 2.06-.94-2.06-.94L8.5 2.5l-.94 2.06-2.06.94zm10 10l.94 2.06.94-2.06 2.06-.94-2.06-.94-.94-2.06-.94 2.06-2.06.94z\"/><path d=\"M17.41 7.96l-1.37-1.37c-.4-.4-.92-.59-1.43-.59-.52 0-1.04.2-1.43.59L10.3 9.45l-7.72 7.72c-.78.78-.78 2.05 0 2.83L4 21.41c.39.39.9.59 1.41.59.51 0 1.02-.2 1.41-.59l7.78-7.78 2.81-2.81c.8-.78.8-2.07 0-2.86zM5.41 20L4 18.59l7.72-7.72 1.47 1.35L5.41 20z\"/>\n",
              "  </svg>\n",
              "      </button>\n",
              "      \n",
              "  <style>\n",
              "    .colab-df-container {\n",
              "      display:flex;\n",
              "      flex-wrap:wrap;\n",
              "      gap: 12px;\n",
              "    }\n",
              "\n",
              "    .colab-df-convert {\n",
              "      background-color: #E8F0FE;\n",
              "      border: none;\n",
              "      border-radius: 50%;\n",
              "      cursor: pointer;\n",
              "      display: none;\n",
              "      fill: #1967D2;\n",
              "      height: 32px;\n",
              "      padding: 0 0 0 0;\n",
              "      width: 32px;\n",
              "    }\n",
              "\n",
              "    .colab-df-convert:hover {\n",
              "      background-color: #E2EBFA;\n",
              "      box-shadow: 0px 1px 2px rgba(60, 64, 67, 0.3), 0px 1px 3px 1px rgba(60, 64, 67, 0.15);\n",
              "      fill: #174EA6;\n",
              "    }\n",
              "\n",
              "    [theme=dark] .colab-df-convert {\n",
              "      background-color: #3B4455;\n",
              "      fill: #D2E3FC;\n",
              "    }\n",
              "\n",
              "    [theme=dark] .colab-df-convert:hover {\n",
              "      background-color: #434B5C;\n",
              "      box-shadow: 0px 1px 3px 1px rgba(0, 0, 0, 0.15);\n",
              "      filter: drop-shadow(0px 1px 2px rgba(0, 0, 0, 0.3));\n",
              "      fill: #FFFFFF;\n",
              "    }\n",
              "  </style>\n",
              "\n",
              "      <script>\n",
              "        const buttonEl =\n",
              "          document.querySelector('#df-ac8c4ffb-b691-4c16-b93f-003d8d9a8d34 button.colab-df-convert');\n",
              "        buttonEl.style.display =\n",
              "          google.colab.kernel.accessAllowed ? 'block' : 'none';\n",
              "\n",
              "        async function convertToInteractive(key) {\n",
              "          const element = document.querySelector('#df-ac8c4ffb-b691-4c16-b93f-003d8d9a8d34');\n",
              "          const dataTable =\n",
              "            await google.colab.kernel.invokeFunction('convertToInteractive',\n",
              "                                                     [key], {});\n",
              "          if (!dataTable) return;\n",
              "\n",
              "          const docLinkHtml = 'Like what you see? Visit the ' +\n",
              "            '<a target=\"_blank\" href=https://colab.research.google.com/notebooks/data_table.ipynb>data table notebook</a>'\n",
              "            + ' to learn more about interactive tables.';\n",
              "          element.innerHTML = '';\n",
              "          dataTable['output_type'] = 'display_data';\n",
              "          await google.colab.output.renderOutput(dataTable, element);\n",
              "          const docLink = document.createElement('div');\n",
              "          docLink.innerHTML = docLinkHtml;\n",
              "          element.appendChild(docLink);\n",
              "        }\n",
              "      </script>\n",
              "    </div>\n",
              "  </div>\n",
              "  "
            ]
          },
          "metadata": {},
          "execution_count": 3
        }
      ]
    },
    {
      "cell_type": "markdown",
      "source": [
        "Pandas로 csv파일을 불러와서 확인해 줍니다. df라는 변수에 데이터가 제대로 저장되었는지 head 명령어를 통해 확인해 줍니다."
      ],
      "metadata": {
        "id": "Mko4WWknlO7X"
      }
    },
    {
      "cell_type": "markdown",
      "source": [
        "# Missing Value Check"
      ],
      "metadata": {
        "id": "Eruk5T2On6uE"
      }
    },
    {
      "cell_type": "code",
      "source": [
        "df.info()"
      ],
      "metadata": {
        "colab": {
          "base_uri": "https://localhost:8080/"
        },
        "id": "Yc_nS27Rohiu",
        "outputId": "8c876973-e2a1-414d-97b4-66a23d7494aa"
      },
      "execution_count": null,
      "outputs": [
        {
          "output_type": "stream",
          "name": "stdout",
          "text": [
            "<class 'pandas.core.frame.DataFrame'>\n",
            "RangeIndex: 284807 entries, 0 to 284806\n",
            "Data columns (total 31 columns):\n",
            " #   Column  Non-Null Count   Dtype  \n",
            "---  ------  --------------   -----  \n",
            " 0   Time    284807 non-null  float32\n",
            " 1   V1      284807 non-null  float32\n",
            " 2   V2      284807 non-null  float32\n",
            " 3   V3      284807 non-null  float32\n",
            " 4   V4      284807 non-null  float32\n",
            " 5   V5      284807 non-null  float32\n",
            " 6   V6      284807 non-null  float32\n",
            " 7   V7      284807 non-null  float32\n",
            " 8   V8      284807 non-null  float32\n",
            " 9   V9      284807 non-null  float32\n",
            " 10  V10     284807 non-null  float32\n",
            " 11  V11     284807 non-null  float32\n",
            " 12  V12     284807 non-null  float32\n",
            " 13  V13     284807 non-null  float32\n",
            " 14  V14     284807 non-null  float32\n",
            " 15  V15     284807 non-null  float32\n",
            " 16  V16     284807 non-null  float32\n",
            " 17  V17     284807 non-null  float32\n",
            " 18  V18     284807 non-null  float32\n",
            " 19  V19     284807 non-null  float32\n",
            " 20  V20     284807 non-null  float32\n",
            " 21  V21     284807 non-null  float32\n",
            " 22  V22     284807 non-null  float32\n",
            " 23  V23     284807 non-null  float32\n",
            " 24  V24     284807 non-null  float32\n",
            " 25  V25     284807 non-null  float32\n",
            " 26  V26     284807 non-null  float32\n",
            " 27  V27     284807 non-null  float32\n",
            " 28  V28     284807 non-null  float32\n",
            " 29  Amount  284807 non-null  float32\n",
            " 30  Class   284807 non-null  float32\n",
            "dtypes: float32(31)\n",
            "memory usage: 33.7 MB\n"
          ]
        }
      ]
    },
    {
      "cell_type": "markdown",
      "source": [
        "불러온 데이터를 조금 더 구체적으로 살펴봅니다. 각 변수에 대해서 missing value가 존재하는지 확인합니다. 만약 missing value가 존재할 경우 count 컬럼에 missing value의 숫자가 기록됩니다. 이 데이터에서는 missing value가 존재하지 않음을 확인할 수 있습니다. 또한 데이터 타입과 메모리 사용량도 확인 가능합니다."
      ],
      "metadata": {
        "id": "4gCXKko_le6y"
      }
    },
    {
      "cell_type": "code",
      "source": [
        "df.isnull().sum() / df.shape[0]"
      ],
      "metadata": {
        "colab": {
          "base_uri": "https://localhost:8080/"
        },
        "id": "nYi2Mk3Nokiw",
        "outputId": "535b6a28-aea8-4ced-8826-db3b1b8eff1a"
      },
      "execution_count": null,
      "outputs": [
        {
          "output_type": "execute_result",
          "data": {
            "text/plain": [
              "Time      0.0\n",
              "V1        0.0\n",
              "V2        0.0\n",
              "V3        0.0\n",
              "V4        0.0\n",
              "V5        0.0\n",
              "V6        0.0\n",
              "V7        0.0\n",
              "V8        0.0\n",
              "V9        0.0\n",
              "V10       0.0\n",
              "V11       0.0\n",
              "V12       0.0\n",
              "V13       0.0\n",
              "V14       0.0\n",
              "V15       0.0\n",
              "V16       0.0\n",
              "V17       0.0\n",
              "V18       0.0\n",
              "V19       0.0\n",
              "V20       0.0\n",
              "V21       0.0\n",
              "V22       0.0\n",
              "V23       0.0\n",
              "V24       0.0\n",
              "V25       0.0\n",
              "V26       0.0\n",
              "V27       0.0\n",
              "V28       0.0\n",
              "Amount    0.0\n",
              "Class     0.0\n",
              "dtype: float64"
            ]
          },
          "metadata": {},
          "execution_count": 5
        }
      ]
    },
    {
      "cell_type": "markdown",
      "source": [
        "만약 missing value가 존재한다면, 몇개의 missing value가 존재하는지 확인해 줍니다. missing value의 존재를 확인했다면 해당 missing value가 존재하는는 row를 삭제하거나 적절한 값으로 missing value를 채워주도록 합니다. 여기서 적절한 값을 계산하는 방법은 여러가지가 존재할 수 있으며, 가장 간단하게는 평균이나 중간값을 사용할 수 있습니다."
      ],
      "metadata": {
        "id": "H1ZA39ucmcs0"
      }
    },
    {
      "cell_type": "markdown",
      "source": [
        "# Correlation Visualize"
      ],
      "metadata": {
        "id": "6YunCYQZnJ4B"
      }
    },
    {
      "cell_type": "code",
      "source": [
        "import seaborn\n",
        "f, ax = plt.subplots(figsize = (25,15))\n",
        "seaborn.heatmap(df.corr(), annot=True, linewidths=0.3, fmt=\"0.2f\", ax=ax, cmap=\"viridis\")\n",
        "plt.show()"
      ],
      "metadata": {
        "colab": {
          "base_uri": "https://localhost:8080/",
          "height": 867
        },
        "id": "IharNKWEounn",
        "outputId": "d8a5a495-1395-4e36-fa04-5d5a9836d4d9"
      },
      "execution_count": null,
      "outputs": [
        {
          "output_type": "display_data",
          "data": {
            "text/plain": [
              "<Figure size 1800x1080 with 2 Axes>"
            ],
            "image/png": "[encoded data removed]"
          },
          "metadata": {
            "needs_background": "light"
          }
        }
      ]
    },
    {
      "cell_type": "markdown",
      "source": [
        "Feature들 사이의 상관관계를 확인합니다. Credit card 데이터의 경우에는 이미 한번 PCA를 거친 데이터이기 때문에 Feature들 사이의 상관관계가 매우 낮게 나옵니다. 그러나 만약 Feature들 간의 상관관계가 높게 나오는 상황을 마주하게 된다면 VIF를 통해서 다중공선성을 확인해주는것이 좋습니다."
      ],
      "metadata": {
        "id": "nQns-hijnR3m"
      }
    },
    {
      "cell_type": "markdown",
      "source": [
        "# EDA\n",
        "데이터의 전체적인 구조를 살펴봅니다."
      ],
      "metadata": {
        "id": "slM7mWbKmv_V"
      }
    },
    {
      "cell_type": "code",
      "source": [
        "print(df[\"Class\"].value_counts())\n",
        "count_classes = pd.value_counts(df[\"Class\"], sort=True)\n",
        "count_classes.head()\n",
        "print()\n",
        "\n",
        "print(df[\"Class\"].value_counts(normalize=True))"
      ],
      "metadata": {
        "colab": {
          "base_uri": "https://localhost:8080/"
        },
        "id": "m8Vs5HzHeID_",
        "outputId": "4ad44703-4a2c-41cf-b595-196ae519138b"
      },
      "execution_count": null,
      "outputs": [
        {
          "output_type": "stream",
          "name": "stdout",
          "text": [
            "0.0    284315\n",
            "1.0       492\n",
            "Name: Class, dtype: int64\n",
            "\n",
            "0.0    0.998273\n",
            "1.0    0.001727\n",
            "Name: Class, dtype: float64\n"
          ]
        }
      ]
    },
    {
      "cell_type": "markdown",
      "source": [
        "0.0 : 정상거래\n",
        "1.0 : 이상거래\n",
        "\n",
        "정상거래는 28만 4315건, 이상거래는 492건이 존재합니다.\n",
        "전체 데이터셋에서 오직 0.0017%가 이상거래이므로 심각한 imbalance가 존재하는 dataset임을 파악할 수 있습니다. 그러므로 일반적인 상황에서 주로 사용되는 Accuracy를 사용해서 모델의 Performance를 측정하기 어렵다는 결론이 도출됩니다. 따라서 모델을 설계할 때 Precision, Recall, 그리고 F1 Score를 사용하도록 디자인 해줍니다."
      ],
      "metadata": {
        "id": "ewIkrAeLolnT"
      }
    },
    {
      "cell_type": "code",
      "source": [
        "labels = [\"Normal\", \"Fraud\"]\n",
        "count_classes.plot(kind=\"bar\")\n",
        "plt.xticks(range(2), labels)\n",
        "plt.title(\"Transaction Class Distribution\")"
      ],
      "metadata": {
        "colab": {
          "base_uri": "https://localhost:8080/",
          "height": 326
        },
        "id": "Y9Q89NdnehWh",
        "outputId": "816c252a-0ea1-4b50-e9a7-974bc4340d9e"
      },
      "execution_count": null,
      "outputs": [
        {
          "output_type": "execute_result",
          "data": {
            "text/plain": [
              "Text(0.5, 1.0, 'Transaction Class Distribution')"
            ]
          },
          "metadata": {},
          "execution_count": 8
        },
        {
          "output_type": "display_data",
          "data": {
            "text/plain": [
              "<Figure size 432x288 with 1 Axes>"
            ],
            "image/png": "[encoded data removed]"
          },
          "metadata": {
            "needs_background": "light"
          }
        }
      ]
    },
    {
      "cell_type": "markdown",
      "source": [
        "Data imabalance가 얼마나 심한지 시각화를 통해서 확인합니다."
      ],
      "metadata": {
        "id": "VIarJP6JpkGd"
      }
    },
    {
      "cell_type": "code",
      "source": [
        "df.drop(columns = \"Time\", inplace=True)\n",
        "df.head()"
      ],
      "metadata": {
        "colab": {
          "base_uri": "https://localhost:8080/",
          "height": 279
        },
        "id": "NDLtC19dfy-6",
        "outputId": "442618d4-7c5d-4688-c98c-2f8326e37354"
      },
      "execution_count": null,
      "outputs": [
        {
          "output_type": "execute_result",
          "data": {
            "text/plain": [
              "         V1        V2        V3        V4        V5        V6        V7  \\\n",
              "0 -1.359807 -0.072781  2.536347  1.378155 -0.338321  0.462388  0.239599   \n",
              "1  1.191857  0.266151  0.166480  0.448154  0.060018 -0.082361 -0.078803   \n",
              "2 -1.358354 -1.340163  1.773209  0.379780 -0.503198  1.800499  0.791461   \n",
              "3 -0.966272 -0.185226  1.792993 -0.863291 -0.010309  1.247203  0.237609   \n",
              "4 -1.158233  0.877737  1.548718  0.403034 -0.407193  0.095921  0.592941   \n",
              "\n",
              "         V8        V9       V10  ...       V21       V22       V23       V24  \\\n",
              "0  0.098698  0.363787  0.090794  ... -0.018307  0.277838 -0.110474  0.066928   \n",
              "1  0.085102 -0.255425 -0.166974  ... -0.225775 -0.638672  0.101288 -0.339846   \n",
              "2  0.247676 -1.514654  0.207643  ...  0.247998  0.771679  0.909412 -0.689281   \n",
              "3  0.377436 -1.387024 -0.054952  ... -0.108300  0.005274 -0.190321 -1.175575   \n",
              "4 -0.270533  0.817739  0.753074  ... -0.009431  0.798279 -0.137458  0.141267   \n",
              "\n",
              "        V25       V26       V27       V28      Amount  Class  \n",
              "0  0.128539 -0.189115  0.133558 -0.021053  149.619995    0.0  \n",
              "1  0.167170  0.125895 -0.008983  0.014724    2.690000    0.0  \n",
              "2 -0.327642 -0.139097 -0.055353 -0.059752  378.660004    0.0  \n",
              "3  0.647376 -0.221929  0.062723  0.061458  123.500000    0.0  \n",
              "4 -0.206010  0.502292  0.219422  0.215153   69.989998    0.0  \n",
              "\n",
              "[5 rows x 30 columns]"
            ],
            "text/html": [
              "\n",
              "  <div id=\"df-fc8e9291-1835-4642-9496-abd19a3f6f33\">\n",
              "    <div class=\"colab-df-container\">\n",
              "      <div>\n",
              "<style scoped>\n",
              "    .dataframe tbody tr th:only-of-type {\n",
              "        vertical-align: middle;\n",
              "    }\n",
              "\n",
              "    .dataframe tbody tr th {\n",
              "        vertical-align: top;\n",
              "    }\n",
              "\n",
              "    .dataframe thead th {\n",
              "        text-align: right;\n",
              "    }\n",
              "</style>\n",
              "<table border=\"1\" class=\"dataframe\">\n",
              "  <thead>\n",
              "    <tr style=\"text-align: right;\">\n",
              "      <th></th>\n",
              "      <th>V1</th>\n",
              "      <th>V2</th>\n",
              "      <th>V3</th>\n",
              "      <th>V4</th>\n",
              "      <th>V5</th>\n",
              "      <th>V6</th>\n",
              "      <th>V7</th>\n",
              "      <th>V8</th>\n",
              "      <th>V9</th>\n",
              "      <th>V10</th>\n",
              "      <th>...</th>\n",
              "      <th>V21</th>\n",
              "      <th>V22</th>\n",
              "      <th>V23</th>\n",
              "      <th>V24</th>\n",
              "      <th>V25</th>\n",
              "      <th>V26</th>\n",
              "      <th>V27</th>\n",
              "      <th>V28</th>\n",
              "      <th>Amount</th>\n",
              "      <th>Class</th>\n",
              "    </tr>\n",
              "  </thead>\n",
              "  <tbody>\n",
              "    <tr>\n",
              "      <th>0</th>\n",
              "      <td>-1.359807</td>\n",
              "      <td>-0.072781</td>\n",
              "      <td>2.536347</td>\n",
              "      <td>1.378155</td>\n",
              "      <td>-0.338321</td>\n",
              "      <td>0.462388</td>\n",
              "      <td>0.239599</td>\n",
              "      <td>0.098698</td>\n",
              "      <td>0.363787</td>\n",
              "      <td>0.090794</td>\n",
              "      <td>...</td>\n",
              "      <td>-0.018307</td>\n",
              "      <td>0.277838</td>\n",
              "      <td>-0.110474</td>\n",
              "      <td>0.066928</td>\n",
              "      <td>0.128539</td>\n",
              "      <td>-0.189115</td>\n",
              "      <td>0.133558</td>\n",
              "      <td>-0.021053</td>\n",
              "      <td>149.619995</td>\n",
              "      <td>0.0</td>\n",
              "    </tr>\n",
              "    <tr>\n",
              "      <th>1</th>\n",
              "      <td>1.191857</td>\n",
              "      <td>0.266151</td>\n",
              "      <td>0.166480</td>\n",
              "      <td>0.448154</td>\n",
              "      <td>0.060018</td>\n",
              "      <td>-0.082361</td>\n",
              "      <td>-0.078803</td>\n",
              "      <td>0.085102</td>\n",
              "      <td>-0.255425</td>\n",
              "      <td>-0.166974</td>\n",
              "      <td>...</td>\n",
              "      <td>-0.225775</td>\n",
              "      <td>-0.638672</td>\n",
              "      <td>0.101288</td>\n",
              "      <td>-0.339846</td>\n",
              "      <td>0.167170</td>\n",
              "      <td>0.125895</td>\n",
              "      <td>-0.008983</td>\n",
              "      <td>0.014724</td>\n",
              "      <td>2.690000</td>\n",
              "      <td>0.0</td>\n",
              "    </tr>\n",
              "    <tr>\n",
              "      <th>2</th>\n",
              "      <td>-1.358354</td>\n",
              "      <td>-1.340163</td>\n",
              "      <td>1.773209</td>\n",
              "      <td>0.379780</td>\n",
              "      <td>-0.503198</td>\n",
              "      <td>1.800499</td>\n",
              "      <td>0.791461</td>\n",
              "      <td>0.247676</td>\n",
              "      <td>-1.514654</td>\n",
              "      <td>0.207643</td>\n",
              "      <td>...</td>\n",
              "      <td>0.247998</td>\n",
              "      <td>0.771679</td>\n",
              "      <td>0.909412</td>\n",
              "      <td>-0.689281</td>\n",
              "      <td>-0.327642</td>\n",
              "      <td>-0.139097</td>\n",
              "      <td>-0.055353</td>\n",
              "      <td>-0.059752</td>\n",
              "      <td>378.660004</td>\n",
              "      <td>0.0</td>\n",
              "    </tr>\n",
              "    <tr>\n",
              "      <th>3</th>\n",
              "      <td>-0.966272</td>\n",
              "      <td>-0.185226</td>\n",
              "      <td>1.792993</td>\n",
              "      <td>-0.863291</td>\n",
              "      <td>-0.010309</td>\n",
              "      <td>1.247203</td>\n",
              "      <td>0.237609</td>\n",
              "      <td>0.377436</td>\n",
              "      <td>-1.387024</td>\n",
              "      <td>-0.054952</td>\n",
              "      <td>...</td>\n",
              "      <td>-0.108300</td>\n",
              "      <td>0.005274</td>\n",
              "      <td>-0.190321</td>\n",
              "      <td>-1.175575</td>\n",
              "      <td>0.647376</td>\n",
              "      <td>-0.221929</td>\n",
              "      <td>0.062723</td>\n",
              "      <td>0.061458</td>\n",
              "      <td>123.500000</td>\n",
              "      <td>0.0</td>\n",
              "    </tr>\n",
              "    <tr>\n",
              "      <th>4</th>\n",
              "      <td>-1.158233</td>\n",
              "      <td>0.877737</td>\n",
              "      <td>1.548718</td>\n",
              "      <td>0.403034</td>\n",
              "      <td>-0.407193</td>\n",
              "      <td>0.095921</td>\n",
              "      <td>0.592941</td>\n",
              "      <td>-0.270533</td>\n",
              "      <td>0.817739</td>\n",
              "      <td>0.753074</td>\n",
              "      <td>...</td>\n",
              "      <td>-0.009431</td>\n",
              "      <td>0.798279</td>\n",
              "      <td>-0.137458</td>\n",
              "      <td>0.141267</td>\n",
              "      <td>-0.206010</td>\n",
              "      <td>0.502292</td>\n",
              "      <td>0.219422</td>\n",
              "      <td>0.215153</td>\n",
              "      <td>69.989998</td>\n",
              "      <td>0.0</td>\n",
              "    </tr>\n",
              "  </tbody>\n",
              "</table>\n",
              "<p>5 rows × 30 columns</p>\n",
              "</div>\n",
              "      <button class=\"colab-df-convert\" onclick=\"convertToInteractive('df-fc8e9291-1835-4642-9496-abd19a3f6f33')\"\n",
              "              title=\"Convert this dataframe to an interactive table.\"\n",
              "              style=\"display:none;\">\n",
              "        \n",
              "  <svg xmlns=\"http://www.w3.org/2000/svg\" height=\"24px\"viewBox=\"0 0 24 24\"\n",
              "       width=\"24px\">\n",
              "    <path d=\"M0 0h24v24H0V0z\" fill=\"none\"/>\n",
              "    <path d=\"M18.56 5.44l.94 2.06.94-2.06 2.06-.94-2.06-.94-.94-2.06-.94 2.06-2.06.94zm-11 1L8.5 8.5l.94-2.06 2.06-.94-2.06-.94L8.5 2.5l-.94 2.06-2.06.94zm10 10l.94 2.06.94-2.06 2.06-.94-2.06-.94-.94-2.06-.94 2.06-2.06.94z\"/><path d=\"M17.41 7.96l-1.37-1.37c-.4-.4-.92-.59-1.43-.59-.52 0-1.04.2-1.43.59L10.3 9.45l-7.72 7.72c-.78.78-.78 2.05 0 2.83L4 21.41c.39.39.9.59 1.41.59.51 0 1.02-.2 1.41-.59l7.78-7.78 2.81-2.81c.8-.78.8-2.07 0-2.86zM5.41 20L4 18.59l7.72-7.72 1.47 1.35L5.41 20z\"/>\n",
              "  </svg>\n",
              "      </button>\n",
              "      \n",
              "  <style>\n",
              "    .colab-df-container {\n",
              "      display:flex;\n",
              "      flex-wrap:wrap;\n",
              "      gap: 12px;\n",
              "    }\n",
              "\n",
              "    .colab-df-convert {\n",
              "      background-color: #E8F0FE;\n",
              "      border: none;\n",
              "      border-radius: 50%;\n",
              "      cursor: pointer;\n",
              "      display: none;\n",
              "      fill: #1967D2;\n",
              "      height: 32px;\n",
              "      padding: 0 0 0 0;\n",
              "      width: 32px;\n",
              "    }\n",
              "\n",
              "    .colab-df-convert:hover {\n",
              "      background-color: #E2EBFA;\n",
              "      box-shadow: 0px 1px 2px rgba(60, 64, 67, 0.3), 0px 1px 3px 1px rgba(60, 64, 67, 0.15);\n",
              "      fill: #174EA6;\n",
              "    }\n",
              "\n",
              "    [theme=dark] .colab-df-convert {\n",
              "      background-color: #3B4455;\n",
              "      fill: #D2E3FC;\n",
              "    }\n",
              "\n",
              "    [theme=dark] .colab-df-convert:hover {\n",
              "      background-color: #434B5C;\n",
              "      box-shadow: 0px 1px 3px 1px rgba(0, 0, 0, 0.15);\n",
              "      filter: drop-shadow(0px 1px 2px rgba(0, 0, 0, 0.3));\n",
              "      fill: #FFFFFF;\n",
              "    }\n",
              "  </style>\n",
              "\n",
              "      <script>\n",
              "        const buttonEl =\n",
              "          document.querySelector('#df-fc8e9291-1835-4642-9496-abd19a3f6f33 button.colab-df-convert');\n",
              "        buttonEl.style.display =\n",
              "          google.colab.kernel.accessAllowed ? 'block' : 'none';\n",
              "\n",
              "        async function convertToInteractive(key) {\n",
              "          const element = document.querySelector('#df-fc8e9291-1835-4642-9496-abd19a3f6f33');\n",
              "          const dataTable =\n",
              "            await google.colab.kernel.invokeFunction('convertToInteractive',\n",
              "                                                     [key], {});\n",
              "          if (!dataTable) return;\n",
              "\n",
              "          const docLinkHtml = 'Like what you see? Visit the ' +\n",
              "            '<a target=\"_blank\" href=https://colab.research.google.com/notebooks/data_table.ipynb>data table notebook</a>'\n",
              "            + ' to learn more about interactive tables.';\n",
              "          element.innerHTML = '';\n",
              "          dataTable['output_type'] = 'display_data';\n",
              "          await google.colab.output.renderOutput(dataTable, element);\n",
              "          const docLink = document.createElement('div');\n",
              "          docLink.innerHTML = docLinkHtml;\n",
              "          element.appendChild(docLink);\n",
              "        }\n",
              "      </script>\n",
              "    </div>\n",
              "  </div>\n",
              "  "
            ]
          },
          "metadata": {},
          "execution_count": 9
        }
      ]
    },
    {
      "cell_type": "markdown",
      "source": [
        "Time 이라는 Feature는 단순히 신용카드 거래가 이루어진 순서를 기록한 것이기 때문에 분석에 크게 도움이 되지 않습니다. \\\n",
        "그러므로 데이터 테이블에서 배제시켜 줍니다."
      ],
      "metadata": {
        "id": "Uq0IU56-prxU"
      }
    },
    {
      "cell_type": "code",
      "source": [
        "x_data = df.iloc[:,0:-1].values\n",
        "y_data = df.iloc[:,[-1]].values\n",
        "\n",
        "x_data = np.array(x_data, dtype=np.float32)\n",
        "y_data = np.array(y_data, dtype=np.float32)\n",
        "\n",
        "print(x_data.shape, y_data.shape)"
      ],
      "metadata": {
        "colab": {
          "base_uri": "https://localhost:8080/"
        },
        "id": "3fkRl_rif8W2",
        "outputId": "f18bb874-b459-4e2c-c7b9-1f4dd800fb72"
      },
      "execution_count": null,
      "outputs": [
        {
          "output_type": "stream",
          "name": "stdout",
          "text": [
            "(284807, 29) (284807, 1)\n"
          ]
        }
      ]
    },
    {
      "cell_type": "markdown",
      "source": [
        "Feature들로 이루어진 x_data와, label을 나타내는 y_data로 원본 데이터를 분리시켜 줍니다. \\\n",
        "분리된 데이터는 앞으로 계산을 해주어야 하기 때문에 동일한 타입의 실수형 데이터로 저장합니다. "
      ],
      "metadata": {
        "id": "7z4dn9o4p_Q2"
      }
    },
    {
      "cell_type": "markdown",
      "source": [
        "# Data Preprocessing - Normalize"
      ],
      "metadata": {
        "id": "6JHPEygfqmc9"
      }
    },
    {
      "cell_type": "code",
      "source": [
        "scaler = MinMaxScaler()\n",
        "x_data = scaler.fit_transform(x_data)\n",
        "print(x_data)"
      ],
      "metadata": {
        "colab": {
          "base_uri": "https://localhost:8080/"
        },
        "id": "LXOEDZ45gfcU",
        "outputId": "6fc9d8b5-f6bd-45dc-bfc3-7bb8dbe78d5f"
      },
      "execution_count": null,
      "outputs": [
        {
          "output_type": "stream",
          "name": "stdout",
          "text": [
            "[[9.3519241e-01 7.6649040e-01 8.8136494e-01 ... 4.1897613e-01\n",
            "  3.1269664e-01 5.8237929e-03]\n",
            " [9.7854203e-01 7.7006662e-01 8.4029853e-01 ... 4.1634512e-01\n",
            "  3.1342265e-01 1.0470528e-04]\n",
            " [9.3521708e-01 7.5311762e-01 8.6814088e-01 ... 4.1548926e-01\n",
            "  3.1191131e-01 1.4738923e-02]\n",
            " ...\n",
            " [9.9090487e-01 7.6407969e-01 7.8110206e-01 ... 4.1659316e-01\n",
            "  3.1258485e-01 2.6421540e-03]\n",
            " [9.5420909e-01 7.7285570e-01 8.4958714e-01 ... 4.1851953e-01\n",
            "  3.1524515e-01 3.8923896e-04]\n",
            " [9.4923186e-01 7.6525640e-01 8.4960151e-01 ... 4.1646636e-01\n",
            "  3.1340083e-01 8.4464857e-03]]\n"
          ]
        }
      ]
    },
    {
      "cell_type": "markdown",
      "source": [
        "데이터의 Scale에 따라서 결과가 왜곡되는 것을 방지하기 위해서 MinMaxScaler를 통해서 데이터가 0~1 사이의 값을 지니도록 조정해 줍니다."
      ],
      "metadata": {
        "id": "JKADqkH4qpPp"
      }
    },
    {
      "cell_type": "markdown",
      "source": [
        "# Logistic Regression"
      ],
      "metadata": {
        "id": "bSNcbSOBWP8_"
      }
    },
    {
      "cell_type": "markdown",
      "source": [
        "## Parameter Initilization"
      ],
      "metadata": {
        "id": "E907VFTyrFh-"
      }
    },
    {
      "cell_type": "code",
      "source": [
        "tf.random.set_seed(2022)\n",
        "\n",
        "W = tf.Variable(tf.random.normal([29,1], mean=0.0))\n",
        "b = tf.Variable(tf.random.normal([1], mean=0.0))"
      ],
      "metadata": {
        "id": "GRYh0yUlgpOL"
      },
      "execution_count": null,
      "outputs": []
    },
    {
      "cell_type": "markdown",
      "source": [
        "W: 앞에는 input dimension, 뒤에는 output dimension으로 설정해야 합니다.\\\n",
        "b: output dimension과 동일하게 설정합니다."
      ],
      "metadata": {
        "id": "URa4DZUAsy_W"
      }
    },
    {
      "cell_type": "markdown",
      "source": [
        "## Hypothesis Define"
      ],
      "metadata": {
        "id": "DO-H9UhYrJG0"
      }
    },
    {
      "cell_type": "code",
      "source": [
        "def hypothesis(x):\n",
        "  z = tf.matmul(x,W) + b\n",
        "  sigmoid = 1 / (1 + tf.exp(-z))\n",
        "  return sigmoid"
      ],
      "metadata": {
        "id": "Ivg6qr9Sg8-r"
      },
      "execution_count": null,
      "outputs": []
    },
    {
      "cell_type": "markdown",
      "source": [
        "Feature와 Label 사이의 관계를 정의하는 부분입니다.\\\n",
        "여기서는 이진분류 문제에 주로 사용되는 Logistic Regression을 hypothesis로 설정해 주었습니다."
      ],
      "metadata": {
        "id": "FW16t05jtLH2"
      }
    },
    {
      "cell_type": "markdown",
      "source": [
        "## Cost Function Define"
      ],
      "metadata": {
        "id": "cbD5tuXPrOS0"
      }
    },
    {
      "cell_type": "code",
      "source": [
        "def cost_function(H, Y):\n",
        "  cost = -tf.reduce_mean( Y*tf.math.log(H) + (1-Y)*tf.math.log(1-H))\n",
        "  return cost"
      ],
      "metadata": {
        "id": "Zslnus0UhFsT"
      },
      "execution_count": null,
      "outputs": []
    },
    {
      "cell_type": "markdown",
      "source": [
        "Cost Function 혹은 Loss Function으로 불립니다. \\\n",
        "여기서는 마찬가지로 이진분류에서 주로 사용되는 Cross Entropy를 cost function으로 설정해 주었습니다."
      ],
      "metadata": {
        "id": "UuXNEkkatn2d"
      }
    },
    {
      "cell_type": "markdown",
      "source": [
        "## Metric Define"
      ],
      "metadata": {
        "id": "gvcEfoRmrRXQ"
      }
    },
    {
      "cell_type": "code",
      "source": [
        "def accuracy(hypo, label):\n",
        "  predicted = tf.cast( hypo > 0.5, dtype = tf.float32)\n",
        "  accuracyd = tf.reduce_mean(tf.cast(tf.equal(predicted, label), dtype=tf.float32))\n",
        "  return accuracyd"
      ],
      "metadata": {
        "id": "4IKpQYKhiPmC"
      },
      "execution_count": null,
      "outputs": []
    },
    {
      "cell_type": "markdown",
      "source": [
        "실제 모델의 퍼포먼스를 측정하는 기준을 설정합니다. \\\n",
        "일반적으로 가장 많이 쓰이는 Accuracy를 우선은 설정해 줍니다."
      ],
      "metadata": {
        "id": "YZr1XM6Et8zx"
      }
    },
    {
      "cell_type": "markdown",
      "source": [
        "## Hyper-parameter Setting"
      ],
      "metadata": {
        "id": "M4NMOQi9rWqz"
      }
    },
    {
      "cell_type": "code",
      "source": [
        "learning_rate = 0.0001\n",
        "optimizer = tf.optimizers.SGD(learning_rate)"
      ],
      "metadata": {
        "id": "waXAnSs-hTG5"
      },
      "execution_count": null,
      "outputs": []
    },
    {
      "cell_type": "markdown",
      "source": [
        "학습을 진행하기 위해서 우리가 지정해 주어야 하는 변수를 Hyper-parameter라고 합니다. \\\n",
        "대표적인 하이퍼 파라미터는 learning rate, optimizer, epochs, actvation function, number of layer, number of neuron 같은 것들이 존재합니다. \\\n",
        "지금은 딥러닝 모델을 사용하는 것이 아니기 때문에 Logistic Regression 학습에 필요한 learning rate와 optimizer만 설정해 주었습니다."
      ],
      "metadata": {
        "id": "jFfmrphDuS2C"
      }
    },
    {
      "cell_type": "markdown",
      "source": [
        "## Training"
      ],
      "metadata": {
        "id": "gSVvBbVJuuYC"
      }
    },
    {
      "cell_type": "code",
      "source": [
        "for step in range(2022):\n",
        "  with tf.GradientTape() as g:\n",
        "    pred = hypothesis(x_data)\n",
        "    cost = cost_function(pred, y_data)\n",
        "    \n",
        "    gradients = g.gradient(cost, [W,b])\n",
        "  \n",
        "  optimizer.apply_gradients(zip(gradients, [W,b]))\n",
        "\n",
        "  if step % 200 == 0:\n",
        "    print(f\"step: {step}, loss: {cost.numpy()}\")\n",
        "\n",
        "w_hat = W.numpy()\n",
        "b_hat = b.numpy()"
      ],
      "metadata": {
        "colab": {
          "base_uri": "https://localhost:8080/"
        },
        "id": "PhwPA2hzhZlT",
        "outputId": "636156d0-cbc1-4a2e-8c84-16b3d53de27c"
      },
      "execution_count": null,
      "outputs": [
        {
          "output_type": "stream",
          "name": "stdout",
          "text": [
            "step: 0, loss: 0.026920180767774582\n",
            "step: 200, loss: 0.02684672921895981\n",
            "step: 400, loss: 0.02677365578711033\n",
            "step: 600, loss: 0.02670133300125599\n",
            "step: 800, loss: 0.026629552245140076\n",
            "step: 1000, loss: 0.02655830793082714\n",
            "step: 1200, loss: 0.026487411931157112\n",
            "step: 1400, loss: 0.0264168418943882\n",
            "step: 1600, loss: 0.02634689025580883\n",
            "step: 1800, loss: 0.026278041303157806\n",
            "step: 2000, loss: 0.026209723204374313\n"
          ]
        }
      ]
    },
    {
      "cell_type": "markdown",
      "source": [
        "Backpropagation을 통해서 최적의 W와 b를 계속해서 업데이트 해줍니다. \\\n",
        "최종적으로 업데이트된 값을 w_hat과 b_hat에 저장합니다."
      ],
      "metadata": {
        "id": "b7_SE4ONuwYs"
      }
    },
    {
      "cell_type": "markdown",
      "source": [
        "## Performance"
      ],
      "metadata": {
        "id": "e1ArVM7Vu-KG"
      }
    },
    {
      "cell_type": "code",
      "source": [
        "acc = accuracy(hypothesis(x_data), y_data).numpy()\n",
        "print(f\"Accuracy: {acc}\")"
      ],
      "metadata": {
        "colab": {
          "base_uri": "https://localhost:8080/"
        },
        "id": "6nU-nAaah-eE",
        "outputId": "e8f279c0-5f63-48da-af5d-4549b3c4bf51"
      },
      "execution_count": null,
      "outputs": [
        {
          "output_type": "stream",
          "name": "stdout",
          "text": [
            "Accuracy: 0.9982725381851196\n"
          ]
        }
      ]
    },
    {
      "cell_type": "markdown",
      "source": [
        "99.83%의 상당히 높은 Accuracy를 보입니다. \\\n",
        "그러나 위에서 살펴본 바에 의하면 dataset이 매우 imbalance 했으므로, Accuracy는 모델을 평가하는 적절한 metric이 될 수 없습니다. \\\n",
        "그러므로 Precision과 Recall의 측면에서 모델을 다시한번 평가해 봅니다."
      ],
      "metadata": {
        "id": "P3iN9ZnmvBH6"
      }
    },
    {
      "cell_type": "markdown",
      "source": [
        "## Precision, Recall, F1 Score"
      ],
      "metadata": {
        "id": "qqy6s_AevgaM"
      }
    },
    {
      "cell_type": "code",
      "source": [
        "# metric\n",
        "from sklearn.metrics import accuracy_score, classification_report, f1_score"
      ],
      "metadata": {
        "id": "okX1WjeAiy9y"
      },
      "execution_count": null,
      "outputs": []
    },
    {
      "cell_type": "code",
      "source": [
        "predicted_x = tf.cast( hypothesis(x_data) > 0.5, dtype = tf.float32)"
      ],
      "metadata": {
        "id": "9vUOkEucmbVk"
      },
      "execution_count": null,
      "outputs": []
    },
    {
      "cell_type": "code",
      "source": [
        "print(\"Accuracy = \", accuracy_score(predicted_x, y_data))\n",
        "print(\"Report = \\n\", classification_report(predicted_x, y_data))"
      ],
      "metadata": {
        "colab": {
          "base_uri": "https://localhost:8080/"
        },
        "id": "ihRFTigVku6V",
        "outputId": "69532c11-f151-4afc-80ec-831728989a50"
      },
      "execution_count": null,
      "outputs": [
        {
          "output_type": "stream",
          "name": "stdout",
          "text": [
            "Accuracy =  0.9982725143693799\n"
          ]
        },
        {
          "output_type": "stream",
          "name": "stderr",
          "text": [
            "/usr/local/lib/python3.7/dist-packages/sklearn/metrics/_classification.py:1318: UndefinedMetricWarning: Recall and F-score are ill-defined and being set to 0.0 in labels with no true samples. Use `zero_division` parameter to control this behavior.\n",
            "  _warn_prf(average, modifier, msg_start, len(result))\n"
          ]
        },
        {
          "output_type": "stream",
          "name": "stdout",
          "text": [
            "Report = \n",
            "               precision    recall  f1-score   support\n",
            "\n",
            "         0.0       1.00      1.00      1.00    284807\n",
            "         1.0       0.00      0.00      0.00         0\n",
            "\n",
            "    accuracy                           1.00    284807\n",
            "   macro avg       0.50      0.50      0.50    284807\n",
            "weighted avg       1.00      1.00      1.00    284807\n",
            "\n"
          ]
        },
        {
          "output_type": "stream",
          "name": "stderr",
          "text": [
            "/usr/local/lib/python3.7/dist-packages/sklearn/metrics/_classification.py:1318: UndefinedMetricWarning: Recall and F-score are ill-defined and being set to 0.0 in labels with no true samples. Use `zero_division` parameter to control this behavior.\n",
            "  _warn_prf(average, modifier, msg_start, len(result))\n",
            "/usr/local/lib/python3.7/dist-packages/sklearn/metrics/_classification.py:1318: UndefinedMetricWarning: Recall and F-score are ill-defined and being set to 0.0 in labels with no true samples. Use `zero_division` parameter to control this behavior.\n",
            "  _warn_prf(average, modifier, msg_start, len(result))\n"
          ]
        }
      ]
    },
    {
      "cell_type": "markdown",
      "source": [
        "대안적인 metric의 관점에서 Logisic Regression 모델을 평가해 봤을 때, Fraud transaction을 거의 잡아내지 못하는 것을 볼 수 있습니다. \\\n",
        "그러므로 다른 모델을 통해서 접근할 필요가 있습니다. \\\n",
        "\n",
        "\n",
        "* Precision: 모델이 True라고 분류한 것 중에서 실제 True가 차지하는 비중\n",
        "* Recall: 실제 True 중에서 모델이 True라고 분류한 데이터의 비중\n",
        "* F1 score: Precision과 Recall의 조화평균"
      ],
      "metadata": {
        "id": "bbkMwkylvlES"
      }
    },
    {
      "cell_type": "markdown",
      "source": [
        "# Neural Networks\n",
        "인공신경망 모델을 통해서 Fraud Detecting을 시도해 봅니다."
      ],
      "metadata": {
        "id": "-5ZNj5vMq1aC"
      }
    },
    {
      "cell_type": "code",
      "source": [
        "from tensorflow.keras.models import Sequential\n",
        "from tensorflow.keras.layers import Dense, BatchNormalization, Dropout\n",
        "from sklearn.model_selection import train_test_split\n",
        "from keras import optimizers, metrics, callbacks"
      ],
      "metadata": {
        "id": "GlsINqtvq29J"
      },
      "execution_count": null,
      "outputs": []
    },
    {
      "cell_type": "markdown",
      "source": [
        "## Dataset Split"
      ],
      "metadata": {
        "id": "ihiTiB6ByO6e"
      }
    },
    {
      "cell_type": "code",
      "source": [
        "x_train, x_test, y_train, y_test = train_test_split(x_data, y_data, test_size = 0.2,  random_state=22)"
      ],
      "metadata": {
        "id": "_h_WeZxZrF1z"
      },
      "execution_count": null,
      "outputs": []
    },
    {
      "cell_type": "markdown",
      "source": [
        "학습에 사용할 training set과 퍼포먼스 측정에 사용할 test set을 8:2로 나누어 줍니다."
      ],
      "metadata": {
        "id": "KsXyQwI6xvmY"
      }
    },
    {
      "cell_type": "code",
      "source": [
        "x_train, x_validate, y_train, y_validate = train_test_split(x_train, y_train, test_size = 0.2, random_state=22)"
      ],
      "metadata": {
        "id": "btGlIHLKw-7c"
      },
      "execution_count": null,
      "outputs": []
    },
    {
      "cell_type": "markdown",
      "source": [
        "EarlyStopping(=callbacks) 사용을 위해서 validation set을 만들어 주어야 합니다.\\\n",
        "기존의 training set 데이터를 또다시 8:2로 나누어 training set과 validation set으로 나누어 줍니다."
      ],
      "metadata": {
        "id": "B-aLR5sNx3e7"
      }
    },
    {
      "cell_type": "code",
      "source": [
        "print(x_train.shape, y_train.shape)\n",
        "print(x_validate.shape, y_validate.shape)\n",
        "print(x_test.shape, y_test.shape)"
      ],
      "metadata": {
        "colab": {
          "base_uri": "https://localhost:8080/"
        },
        "id": "CUlqQyvIsivA",
        "outputId": "07d13c86-ecbb-45f8-ba08-4c8d3d36bfbb"
      },
      "execution_count": null,
      "outputs": [
        {
          "output_type": "stream",
          "name": "stdout",
          "text": [
            "(182276, 29) (182276, 1)\n",
            "(45569, 29) (45569, 1)\n",
            "(56962, 29) (56962, 1)\n"
          ]
        }
      ]
    },
    {
      "cell_type": "markdown",
      "source": [
        "## Neural Network Design"
      ],
      "metadata": {
        "id": "XA2H3HkQyTny"
      }
    },
    {
      "cell_type": "code",
      "source": [
        "model = Sequential([\n",
        "    Dense(256, activation='relu', input_shape=(x_train.shape[-1],)),\n",
        "    BatchNormalization(),\n",
        "    Dropout(0.3),\n",
        "    Dense(128, activation='relu'),\n",
        "    BatchNormalization(),\n",
        "    Dropout(0.3),\n",
        "    Dense(64, activation='relu'),\n",
        "    BatchNormalization(),\n",
        "    Dropout(0.3),\n",
        "    Dense(32, activation='relu'),\n",
        "    BatchNormalization(),\n",
        "    Dropout(0.3),\n",
        "    Dense(16, activation='relu'),\n",
        "    BatchNormalization(),\n",
        "    Dropout(0.3),\n",
        "    Dense(10, activation='softmax'),\n",
        "    BatchNormalization(),\n",
        "    Dropout(0.3),\n",
        "    Dense(1, activation='sigmoid'),\n",
        "])\n",
        "\n",
        "model.summary()"
      ],
      "metadata": {
        "id": "4OdrSuQ334hS",
        "colab": {
          "base_uri": "https://localhost:8080/"
        },
        "outputId": "1f1fcdf2-8b62-4145-a2a0-d1642cf6038e"
      },
      "execution_count": null,
      "outputs": [
        {
          "output_type": "stream",
          "name": "stdout",
          "text": [
            "Model: \"sequential_7\"\n",
            "_________________________________________________________________\n",
            " Layer (type)                Output Shape              Param #   \n",
            "=================================================================\n",
            " dense_49 (Dense)            (None, 256)               7680      \n",
            "                                                                 \n",
            " batch_normalization_42 (Bat  (None, 256)              1024      \n",
            " chNormalization)                                                \n",
            "                                                                 \n",
            " dropout_42 (Dropout)        (None, 256)               0         \n",
            "                                                                 \n",
            " dense_50 (Dense)            (None, 128)               32896     \n",
            "                                                                 \n",
            " batch_normalization_43 (Bat  (None, 128)              512       \n",
            " chNormalization)                                                \n",
            "                                                                 \n",
            " dropout_43 (Dropout)        (None, 128)               0         \n",
            "                                                                 \n",
            " dense_51 (Dense)            (None, 64)                8256      \n",
            "                                                                 \n",
            " batch_normalization_44 (Bat  (None, 64)               256       \n",
            " chNormalization)                                                \n",
            "                                                                 \n",
            " dropout_44 (Dropout)        (None, 64)                0         \n",
            "                                                                 \n",
            " dense_52 (Dense)            (None, 32)                2080      \n",
            "                                                                 \n",
            " batch_normalization_45 (Bat  (None, 32)               128       \n",
            " chNormalization)                                                \n",
            "                                                                 \n",
            " dropout_45 (Dropout)        (None, 32)                0         \n",
            "                                                                 \n",
            " dense_53 (Dense)            (None, 16)                528       \n",
            "                                                                 \n",
            " batch_normalization_46 (Bat  (None, 16)               64        \n",
            " chNormalization)                                                \n",
            "                                                                 \n",
            " dropout_46 (Dropout)        (None, 16)                0         \n",
            "                                                                 \n",
            " dense_54 (Dense)            (None, 10)                170       \n",
            "                                                                 \n",
            " batch_normalization_47 (Bat  (None, 10)               40        \n",
            " chNormalization)                                                \n",
            "                                                                 \n",
            " dropout_47 (Dropout)        (None, 10)                0         \n",
            "                                                                 \n",
            " dense_55 (Dense)            (None, 1)                 11        \n",
            "                                                                 \n",
            "=================================================================\n",
            "Total params: 53,645\n",
            "Trainable params: 52,633\n",
            "Non-trainable params: 1,012\n",
            "_________________________________________________________________\n"
          ]
        }
      ]
    },
    {
      "cell_type": "markdown",
      "source": [
        "자신만의 적절한 ANN 모델을 만들어 줍니다. \\\n",
        "\\\n",
        "Input Layer에서는 항상 input data의 dimension에 따라서 적절한 input_shape을 지정해 주어야합니다. HIdden Layer 사이의 activation function으로는 ReLU를 기본적으로 사용하며, 이진분류 문제이므로 Output Layer에서는 activation function을 꼭 sigmoid로 지정해 주어야 합니다. \\\n",
        "\\\n",
        "Hidden Layer마다 Drop out을 적용해서 Overfitting을 방지하도록 합니다. Batch Normalization도 적용해 주면서 학습이 보다 빠르고 안정적으로 진행되게끔 유도합니다.\n",
        "\\\n",
        "\\\n",
        "이 모델에서는 Hidden Layer를 지날수록 점점 neuron의 숫자를 줄게하여 정보가 압축되도록 설계했고, Ouput Layer 직전의 Hidden Layer에서는 activation function으로 softmax를 사용했습니다."
      ],
      "metadata": {
        "id": "zQ0JZkO-yYIY"
      }
    },
    {
      "cell_type": "markdown",
      "source": [
        "## Model compile"
      ],
      "metadata": {
        "id": "Kdv8zLMXz6cS"
      }
    },
    {
      "cell_type": "code",
      "source": [
        "model.compile(optimizer=optimizers.Adam(1e-4),\n",
        "              loss = \"binary_crossentropy\",\n",
        "              metrics =  [metrics.Recall(name=\"recall\"),\n",
        "                          metrics.Precision(name=\"precision\")])"
      ],
      "metadata": {
        "id": "4QPOc2oCs9Fy"
      },
      "execution_count": null,
      "outputs": []
    },
    {
      "cell_type": "code",
      "source": [
        "callbacks = [callbacks.ModelCheckpoint('epcoh.h5')]"
      ],
      "metadata": {
        "id": "hRa5piR3yXNC"
      },
      "execution_count": null,
      "outputs": []
    },
    {
      "cell_type": "markdown",
      "source": [
        "모델을 학습하는데 필요한 하이퍼 파라미터들을 지정해 줍니다. \\\n",
        "\\\n",
        "Optimizer는 일반적으로 가장 성능이 좋은 Adam을 사용해줍니다. \\\n",
        "\\\n",
        "Adam에 default 값으로 지정된 learning rate는 1e-3 입니다. 그러나 학습을 진행해 본 결과 learning rate이 너무 커서 학습이 불안정하게 진행되는 것이 포착되었습니다. 그러므로 learning rate을 1e-4로 더 낮추어서 적용해 줍니다. \\\n",
        "\\\n",
        "loss function으로는 이진분류에 적합한 binary crossentropy를 사용합니다.\\\n",
        "\\\n",
        "최종적인 성능평가의 metric으로 precision과 recall을 지정해 줍니다. \\\n",
        "\\\n",
        "EarlyStopping을 적용해 줍니다. (callbacks)"
      ],
      "metadata": {
        "id": "lKHTLu810EDG"
      }
    },
    {
      "cell_type": "markdown",
      "source": [
        "# Training"
      ],
      "metadata": {
        "id": "PuSIuUHC1c2m"
      }
    },
    {
      "cell_type": "markdown",
      "source": [
        "batch size: 65536\\\n",
        "epochs: 10000\\\n",
        "EarlyStopping: Yes\n"
      ],
      "metadata": {
        "id": "cZNHV2kQlkX3"
      }
    },
    {
      "cell_type": "code",
      "source": [
        "history = model.fit(x_train, y_train,\n",
        "                    validation_data = (x_validate, y_validate),\n",
        "                    batch_size = 65536,\n",
        "                    epochs = 10000,\n",
        "                    callbacks = callbacks\n",
        "                    )"
      ],
      "metadata": {
        "id": "LCX0zglQ0Y3l"
      },
      "execution_count": null,
      "outputs": []
    },
    {
      "cell_type": "code",
      "source": [
        "score = model.evaluate(x_test, y_test)\n",
        "print(score)"
      ],
      "metadata": {
        "colab": {
          "base_uri": "https://localhost:8080/"
        },
        "id": "7dmMkfS94eBS",
        "outputId": "886944b3-09ad-4c19-9767-f9050ddfa55a"
      },
      "execution_count": null,
      "outputs": [
        {
          "output_type": "stream",
          "name": "stdout",
          "text": [
            "1781/1781 [==============================] - 8s 5ms/step - loss: 0.0035 - recall: 0.8602 - precision: 0.9091\n",
            "[0.0035365174990147352, 0.8602150678634644, 0.9090909361839294]\n"
          ]
        }
      ]
    },
    {
      "cell_type": "markdown",
      "source": [
        "# Training Visualization"
      ],
      "metadata": {
        "id": "hpnfOBS41-Ov"
      }
    },
    {
      "cell_type": "code",
      "source": [
        "plt.figure(figsize = (30,15))\n",
        "\n",
        "plt.subplot(3,1,1)\n",
        "plt.plot(history.history[\"loss\"], label = \"Loss\")\n",
        "plt.plot(history.history[\"val_loss\"], label = \"Val_Loss\")\n",
        "plt.title(\"Training Loss & Validate Loss\")\n",
        "plt.legend()\n",
        "\n",
        "plt.subplot(3,1,2)\n",
        "plt.plot(history.history[\"precision\"], label = \"Precision\")\n",
        "plt.plot(history.history[\"val_precision\"], label = \"Val_Precision\")\n",
        "plt.title(\"Training Precision & Validate Precision\")\n",
        "plt.legend()\n",
        "\n",
        "plt.subplot(3,1,3)\n",
        "plt.plot(history.history[\"recall\"], label = \"Recall\")\n",
        "plt.plot(history.history[\"val_recall\"], label = \"Val_Recall\")\n",
        "plt.title(\"Training Recall & Validate Recall\")\n",
        "plt.legend()"
      ],
      "metadata": {
        "colab": {
          "base_uri": "https://localhost:8080/",
          "height": 835
        },
        "id": "PPLmH3e30rY0",
        "outputId": "6e8a051b-58b9-42d7-f2e6-84b260623765"
      },
      "execution_count": null,
      "outputs": [
        {
          "output_type": "execute_result",
          "data": {
            "text/plain": [
              "<matplotlib.legend.Legend at 0x7f327d67a9d0>"
            ]
          },
          "metadata": {},
          "execution_count": 90
        },
        {
          "output_type": "display_data",
          "data": {
            "text/plain": [
              "<Figure size 2160x1080 with 3 Axes>"
            ],
            "image/png": "[encoded data removed]"
          },
          "metadata": {
            "needs_background": "light"
          }
        }
      ]
    },
    {
      "cell_type": "markdown",
      "source": [
        "# ANN Performance"
      ],
      "metadata": {
        "id": "dujPiKL22hOI"
      }
    },
    {
      "cell_type": "code",
      "source": [
        "Ann_predict = tf.cast( model.predict(x_test) > 0.5, dtype = tf.float32)\n",
        "print(\"Test Report = \\n\", classification_report(Ann_predict, y_test))"
      ],
      "metadata": {
        "colab": {
          "base_uri": "https://localhost:8080/"
        },
        "id": "3w41Zcbg-F1U",
        "outputId": "63d2ae61-b051-4c59-f112-306cc9b45e6e"
      },
      "execution_count": null,
      "outputs": [
        {
          "output_type": "stream",
          "name": "stdout",
          "text": [
            "1781/1781 [==============================] - 4s 2ms/step\n",
            "Test Report = \n",
            "               precision    recall  f1-score   support\n",
            "\n",
            "         0.0       1.00      1.00      1.00     56874\n",
            "         1.0       0.86      0.91      0.88        88\n",
            "\n",
            "    accuracy                           1.00     56962\n",
            "   macro avg       0.93      0.95      0.94     56962\n",
            "weighted avg       1.00      1.00      1.00     56962\n",
            "\n"
          ]
        }
      ]
    },
    {
      "cell_type": "markdown",
      "source": [
        "# Other Machine Learning Method"
      ],
      "metadata": {
        "id": "A_HT7lCi2HFo"
      }
    },
    {
      "cell_type": "code",
      "source": [
        "x_train, x_test, y_train, y_test = train_test_split(x_data, y_data, test_size = 0.2, random_state=22)"
      ],
      "metadata": {
        "id": "gOEZ4peq-jW_"
      },
      "execution_count": null,
      "outputs": []
    },
    {
      "cell_type": "markdown",
      "source": [
        "다른 Machine Learning Method는 EarlyStopping을 사용하지 않으므로 validation set을 만들지 않고, 모두 training data로 사용한다."
      ],
      "metadata": {
        "id": "hx75Vucu8EUF"
      }
    },
    {
      "cell_type": "markdown",
      "source": [
        "# 1) XGboost"
      ],
      "metadata": {
        "id": "cBEn7Bja2LN2"
      }
    },
    {
      "cell_type": "code",
      "source": [
        "from xgboost import XGBClassifier\n",
        "\n",
        "Xgboost_model = XGBClassifier()\n",
        "Xgboost_model.fit(x_train, y_train, eval_metric='aucpr')\n",
        "\n",
        "Xg_predict = tf.cast( Xgboost_model.predict(x_test) > 0.5, dtype = tf.float32)\n",
        "print(\"Test Report = \\n\", classification_report(Xg_predict, y_test))"
      ],
      "metadata": {
        "colab": {
          "base_uri": "https://localhost:8080/"
        },
        "id": "sq2DH3Ex-jZw",
        "outputId": "bf1eb44d-d104-4ffb-9d6e-1b2e443591dc"
      },
      "execution_count": null,
      "outputs": [
        {
          "output_type": "stream",
          "name": "stderr",
          "text": [
            "/usr/local/lib/python3.7/dist-packages/sklearn/preprocessing/_label.py:98: DataConversionWarning: A column-vector y was passed when a 1d array was expected. Please change the shape of y to (n_samples, ), for example using ravel().\n",
            "  y = column_or_1d(y, warn=True)\n",
            "/usr/local/lib/python3.7/dist-packages/sklearn/preprocessing/_label.py:133: DataConversionWarning: A column-vector y was passed when a 1d array was expected. Please change the shape of y to (n_samples, ), for example using ravel().\n",
            "  y = column_or_1d(y, warn=True)\n"
          ]
        },
        {
          "output_type": "stream",
          "name": "stdout",
          "text": [
            "Test Report = \n",
            "               precision    recall  f1-score   support\n",
            "\n",
            "         0.0       1.00      1.00      1.00     56879\n",
            "         1.0       0.84      0.94      0.89        83\n",
            "\n",
            "    accuracy                           1.00     56962\n",
            "   macro avg       0.92      0.97      0.94     56962\n",
            "weighted avg       1.00      1.00      1.00     56962\n",
            "\n"
          ]
        }
      ]
    },
    {
      "cell_type": "markdown",
      "source": [
        "# 2) RandomForest"
      ],
      "metadata": {
        "id": "lRQ9pA_52Pfg"
      }
    },
    {
      "cell_type": "code",
      "source": [
        "from sklearn.ensemble import RandomForestClassifier\n",
        "\n",
        "RandomForest_model = RandomForestClassifier(n_estimators=100, oob_score=False)\n",
        "RandomForest_model.fit(x_train, y_train)\n",
        "\n",
        "RF_predict = tf.cast( RandomForest_model.predict(x_test) > 0.5, dtype = tf.float32)\n",
        "print(\"Test Report = \\n\", classification_report(RF_predict, y_test))"
      ],
      "metadata": {
        "colab": {
          "base_uri": "https://localhost:8080/"
        },
        "id": "NhlXMGDO_Gbk",
        "outputId": "2196ffbf-2597-40ea-fe8f-dcbef894d0af"
      },
      "execution_count": null,
      "outputs": [
        {
          "output_type": "stream",
          "name": "stderr",
          "text": [
            "/usr/local/lib/python3.7/dist-packages/ipykernel_launcher.py:4: DataConversionWarning: A column-vector y was passed when a 1d array was expected. Please change the shape of y to (n_samples,), for example using ravel().\n",
            "  after removing the cwd from sys.path.\n"
          ]
        },
        {
          "output_type": "stream",
          "name": "stdout",
          "text": [
            "Test Report = \n",
            "               precision    recall  f1-score   support\n",
            "\n",
            "         0.0       1.00      1.00      1.00     56882\n",
            "         1.0       0.82      0.95      0.88        80\n",
            "\n",
            "    accuracy                           1.00     56962\n",
            "   macro avg       0.91      0.97      0.94     56962\n",
            "weighted avg       1.00      1.00      1.00     56962\n",
            "\n"
          ]
        }
      ]
    },
    {
      "cell_type": "markdown",
      "source": [
        "# 3) Light Gradient Boosting"
      ],
      "metadata": {
        "id": "vRvRqjVS2RNF"
      }
    },
    {
      "cell_type": "code",
      "source": [
        "from lightgbm import LGBMClassifier\n",
        "\n",
        "LGBM_model = LGBMClassifier()\n",
        "LGBM_model.fit(x_train, y_train, eval_metric='aucpr')\n",
        "\n",
        "LGBM_predict = tf.cast( LGBM_model.predict(x_test) > 0.5, dtype = tf.float32)\n",
        "print(\"Test Report = \\n\", classification_report(LGBM_predict, y_test))"
      ],
      "metadata": {
        "id": "pLFVVOK7_Y0_",
        "colab": {
          "base_uri": "https://localhost:8080/"
        },
        "outputId": "1d8bfcb6-41b1-4dd2-fa53-57760ac867e5"
      },
      "execution_count": null,
      "outputs": [
        {
          "output_type": "stream",
          "name": "stderr",
          "text": [
            "/usr/local/lib/python3.7/dist-packages/sklearn/preprocessing/_label.py:98: DataConversionWarning: A column-vector y was passed when a 1d array was expected. Please change the shape of y to (n_samples, ), for example using ravel().\n",
            "  y = column_or_1d(y, warn=True)\n",
            "/usr/local/lib/python3.7/dist-packages/sklearn/preprocessing/_label.py:133: DataConversionWarning: A column-vector y was passed when a 1d array was expected. Please change the shape of y to (n_samples, ), for example using ravel().\n",
            "  y = column_or_1d(y, warn=True)\n"
          ]
        },
        {
          "output_type": "stream",
          "name": "stdout",
          "text": [
            "Test Report = \n",
            "               precision    recall  f1-score   support\n",
            "\n",
            "         0.0       1.00      1.00      1.00     56838\n",
            "         1.0       0.10      0.07      0.08       124\n",
            "\n",
            "    accuracy                           1.00     56962\n",
            "   macro avg       0.55      0.54      0.54     56962\n",
            "weighted avg       1.00      1.00      1.00     56962\n",
            "\n"
          ]
        }
      ]
    },
    {
      "cell_type": "markdown",
      "source": [
        "# 4) Support Vector Machine"
      ],
      "metadata": {
        "id": "BJHic0je2aC2"
      }
    },
    {
      "cell_type": "code",
      "source": [
        "from sklearn.svm import SVC\n",
        "\n",
        "SVC_model = SVC(kernel=\"rbf\")\n",
        "SVC_model.fit(x_train, y_train)\n",
        "\n",
        "SVC_predict = tf.cast( SVC_model.predict(x_test) > 0.5, dtype = tf.float32)\n",
        "print(\"Test Report = \\n\", classification_report(SVC_predict, y_test))"
      ],
      "metadata": {
        "id": "QgqvnoJiA_lW",
        "colab": {
          "base_uri": "https://localhost:8080/"
        },
        "outputId": "6fcb7f67-4d9a-42f2-9ee9-80e577f991d3"
      },
      "execution_count": null,
      "outputs": [
        {
          "output_type": "stream",
          "name": "stderr",
          "text": [
            "/usr/local/lib/python3.7/dist-packages/sklearn/utils/validation.py:993: DataConversionWarning: A column-vector y was passed when a 1d array was expected. Please change the shape of y to (n_samples, ), for example using ravel().\n",
            "  y = column_or_1d(y, warn=True)\n"
          ]
        },
        {
          "output_type": "stream",
          "name": "stdout",
          "text": [
            "Test Report = \n",
            "               precision    recall  f1-score   support\n",
            "\n",
            "         0.0       1.00      1.00      1.00     56872\n",
            "         1.0       0.82      0.84      0.83        90\n",
            "\n",
            "    accuracy                           1.00     56962\n",
            "   macro avg       0.91      0.92      0.92     56962\n",
            "weighted avg       1.00      1.00      1.00     56962\n",
            "\n"
          ]
        }
      ]
    },
    {
      "cell_type": "markdown",
      "source": [
        "# Model Comparison"
      ],
      "metadata": {
        "id": "g1pTUzOhRk-A"
      }
    },
    {
      "cell_type": "code",
      "source": [
        "F1_dict={}\n",
        "F1_dict[\"ANN\"] = {\"Test\" : f1_score(Ann_predict, y_test)}\n",
        "F1_dict[\"XGboost\"] = {\"Test\" : f1_score(Xg_predict, y_test)}\n",
        "F1_dict[\"RandomForest\"] = {\"Test\" : f1_score(RF_predict, y_test)}\n",
        "F1_dict[\"LGBM\"] = {\"Test\" : f1_score(LGBM_predict, y_test)}\n",
        "F1_dict[\"SVM\"] = {\"Test\" : f1_score(SVC_predict, y_test)}"
      ],
      "metadata": {
        "id": "JS1GdeOzBYDf"
      },
      "execution_count": null,
      "outputs": []
    },
    {
      "cell_type": "code",
      "source": [
        "F1_df = pd.DataFrame(F1_dict)\n",
        "F1_df.plot(kind='barh', figsize=(15, 8))"
      ],
      "metadata": {
        "id": "DLhNESg37z3-",
        "colab": {
          "base_uri": "https://localhost:8080/",
          "height": 502
        },
        "outputId": "898c97f9-ff3f-4bca-8b24-a7386491e735"
      },
      "execution_count": null,
      "outputs": [
        {
          "output_type": "execute_result",
          "data": {
            "text/plain": [
              "<matplotlib.axes._subplots.AxesSubplot at 0x7f32a07bb2d0>"
            ]
          },
          "metadata": {},
          "execution_count": 99
        },
        {
          "output_type": "display_data",
          "data": {
            "text/plain": [
              "<Figure size 1080x576 with 1 Axes>"
            ],
            "image/png": "[encoded data removed]"
          },
          "metadata": {
            "needs_background": "light"
          }
        }
      ]
    },
    {
      "cell_type": "code",
      "source": [],
      "metadata": {
        "id": "6SHyyf_jmso3"
      },
      "execution_count": null,
      "outputs": []
    }
  ]
}